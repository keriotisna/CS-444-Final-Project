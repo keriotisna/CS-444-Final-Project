{
 "cells": [
  {
   "cell_type": "code",
   "execution_count": 2,
   "metadata": {},
   "outputs": [],
   "source": [
    "import numpy as np"
   ]
  },
  {
   "cell_type": "code",
   "execution_count": 35,
   "metadata": {},
   "outputs": [
    {
     "name": "stdout",
     "output_type": "stream",
     "text": [
      "[0 5 2 9 4 8 3 8 4 2 1 6 3 7 5 6 2 2 9 7]\n",
      "[0, 1, 2, 3, 4, 5, 6, 7, 8, 9, 10, 11, 12, 13, 14, 15, 16, 17, 18, 19]\n",
      "\n",
      "[[9.0, 1.0, 0.0], [9.0], [8.0, 2.0], [8.0, 2.0], [7.0, 3.0], [7.0, 3.0], [6.0, 4.0], [6.0, 4.0], [5.0, 5.0], [2.0, 2.0]]\n",
      "[[18, 10, 0], [3], [7, 17], [5, 16], [19, 12], [13, 6], [15, 8], [11, 4], [14, 1], [9, 2]]\n"
     ]
    }
   ],
   "source": [
    "MAX_CAP = 10\n",
    "# values = [10, 9, 5, 1, 7, 2, 7, 2, 6, 2, 7, 4, 4, 1, 2, 20]\n",
    "values = np.random.randint(low=0, high=MAX_CAP, size=(20))\n",
    "# values.sort(reverse=True)\n",
    "# print(values)\n",
    "\n",
    "def getBinPackingResults(values:list, MAX_CAP:float) -> tuple[list, list]:\n",
    "\n",
    "    \"\"\"\n",
    "    Finds a near-optimal solution to the bin packing problem by minimizing the total number of bins a set of values will fit into \n",
    "    assuming each bin has an identical max capacity.\n",
    "    \n",
    "    This can be used to optimally schedule batches of network training to minimize the number of individual batches while maximizing parallelism.\n",
    "    \n",
    "    Arguments:\n",
    "        values: A list of values which represents the estimated memory in MB each model will use during training\n",
    "        MAX_CAP: A float representing the total MB capacity of the GPU\n",
    "        \n",
    "    Returns:\n",
    "        (valueBins, indexBins)\n",
    "        valueBins: A list of lists where each sublist represents the values of items that sum to less than MAX_CAP\n",
    "        indexBins: A list of lists where each sublist holds the indices of the original values which should be grouped to minimize bin counts.\n",
    "    \"\"\"\n",
    "\n",
    "    values = np.array(values, dtype=np.float32)\n",
    "    \n",
    "    sortedIndices = np.argsort(values, kind='stable')[::-1]\n",
    "    values = values[sortedIndices]\n",
    "    \n",
    "    # Initialize empty bins and indices since we know at most, there can be N bins for N values\n",
    "    bins = [[] for i in range(len(values))]\n",
    "    binIndices = [[] for i in range(len(values))]\n",
    "    binCapacities = [int(MAX_CAP - np.sum(bin)) for bin in bins]\n",
    "    remainingCapacities = (np.ones((len(bins))) * MAX_CAP)\n",
    "    \n",
    "    for idx in range(len(values)):\n",
    "        \n",
    "        currentValue = values[idx]\n",
    "        currentValueIdx = sortedIndices[idx]\n",
    "\n",
    "        for bCapIdx, binCapacity in enumerate(binCapacities):\n",
    "            \n",
    "            remainingCapacity = binCapacity - currentValue\n",
    "            remainingCapacities[bCapIdx] = remainingCapacity\n",
    "\n",
    "        # If a value is out of the maximum range, add it to its own list\n",
    "        if currentValue > MAX_CAP:\n",
    "            bins.append([currentValue])\n",
    "            binIndices.append([currentValueIdx])\n",
    "            continue\n",
    "\n",
    "        bestBinIdx = np.where(remainingCapacities >= 0)[0][np.argmin(remainingCapacities[remainingCapacities >= 0])]\n",
    "        \n",
    "        bins[bestBinIdx].append(currentValue)\n",
    "        binIndices[bestBinIdx].append(currentValueIdx)\n",
    "        binCapacities[bestBinIdx] = np.sum(binCapacities[bestBinIdx]) - currentValue\n",
    "\n",
    "    return [bin for bin in bins if len(bin)>0], [idx for idx in binIndices if len(idx)>0]\n",
    "            \n",
    "        \n",
    "        \n",
    "print(values)\n",
    "print([i for i in range(len(values))])\n",
    "print()\n",
    "groupings, indices = getBinPackingResults(values, MAX_CAP)\n",
    "print(groupings)\n",
    "print(indices)"
   ]
  }
 ],
 "metadata": {
  "kernelspec": {
   "display_name": "CS444Env",
   "language": "python",
   "name": "python3"
  },
  "language_info": {
   "codemirror_mode": {
    "name": "ipython",
    "version": 3
   },
   "file_extension": ".py",
   "mimetype": "text/x-python",
   "name": "python",
   "nbconvert_exporter": "python",
   "pygments_lexer": "ipython3",
   "version": "3.10.13"
  }
 },
 "nbformat": 4,
 "nbformat_minor": 2
}
